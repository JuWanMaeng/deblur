{
 "cells": [
  {
   "cell_type": "code",
   "execution_count": 79,
   "metadata": {},
   "outputs": [],
   "source": [
    "import os\n",
    "import glob\n",
    "from basicsr.utils import img2tensor, scandir\n",
    "from os import path as osp"
   ]
  },
  {
   "cell_type": "code",
   "execution_count": 86,
   "metadata": {},
   "outputs": [],
   "source": [
    "path='dataset/gopro_ex/train/'\n",
    "li=os.listdir('dataset/gopro_ex/train')\n",
    "\n",
    "for folder in li:\n",
    "    folder_path=path+folder\n",
    "    sharp_folder=folder_path+'/sharp'\n",
    "    sharp_imgs=glob.glob(sharp_folder+'/*.png')\n",
    "    for img in sharp_imgs:\n",
    "        src_path=img\n",
    "        img_name=img.split('/')[-1]\n",
    "        new_path='dataset/GoPro/train/sharp/'\n",
    "        new_img_path=new_path+img_name\n",
    "        os.rename(src_path,new_img_path)\n",
    "\n",
    "    "
   ]
  },
  {
   "cell_type": "code",
   "execution_count": 87,
   "metadata": {},
   "outputs": [],
   "source": [
    "path='dataset/gopro_ex/test/'\n",
    "li=os.listdir('dataset/gopro_ex/test')\n",
    "\n",
    "for folder in li:\n",
    "    folder_path=path+folder\n",
    "    sharp_folder=folder_path+'/sharp'\n",
    "    sharp_imgs=glob.glob(sharp_folder+'/*.png')\n",
    "    for img in sharp_imgs:\n",
    "        src_path=img\n",
    "        img_name=img.split('/')[-1]\n",
    "        new_path='dataset/GoPro/test/sharp/'\n",
    "        new_img_path=new_path+img_name\n",
    "        os.rename(src_path,new_img_path)\n",
    "\n",
    "    "
   ]
  },
  {
   "cell_type": "code",
   "execution_count": 88,
   "metadata": {},
   "outputs": [],
   "source": [
    "path='dataset/gopro_ex/train/'\n",
    "li=os.listdir('dataset/gopro_ex/train')\n",
    "\n",
    "for folder in li:\n",
    "    folder_path=path+folder\n",
    "    sharp_folder=folder_path+'/blur'\n",
    "    sharp_imgs=glob.glob(sharp_folder+'/*.png')\n",
    "    for img in sharp_imgs:\n",
    "        src_path=img\n",
    "        img_name=img.split('/')[-1]\n",
    "        new_path='dataset/GoPro/train/blur/'\n",
    "        new_img_path=new_path+img_name\n",
    "        os.rename(src_path,new_img_path)\n",
    "\n",
    "    "
   ]
  },
  {
   "cell_type": "code",
   "execution_count": 89,
   "metadata": {},
   "outputs": [],
   "source": [
    "path='dataset/gopro_ex/test/'\n",
    "li=os.listdir('dataset/gopro_ex/test')\n",
    "\n",
    "for folder in li:\n",
    "    folder_path=path+folder\n",
    "    sharp_folder=folder_path+'/blur'\n",
    "    sharp_imgs=glob.glob(sharp_folder+'/*.png')\n",
    "    for img in sharp_imgs:\n",
    "        src_path=img\n",
    "        img_name=img.split('/')[-1]\n",
    "        new_path='dataset/GoPro/test/blur/'\n",
    "        new_img_path=new_path+img_name\n",
    "        os.rename(src_path,new_img_path)\n",
    "\n",
    "    "
   ]
  },
  {
   "cell_type": "code",
   "execution_count": null,
   "metadata": {},
   "outputs": [],
   "source": []
  }
 ],
 "metadata": {
  "kernelspec": {
   "display_name": "base",
   "language": "python",
   "name": "python3"
  },
  "language_info": {
   "codemirror_mode": {
    "name": "ipython",
    "version": 3
   },
   "file_extension": ".py",
   "mimetype": "text/x-python",
   "name": "python",
   "nbconvert_exporter": "python",
   "pygments_lexer": "ipython3",
   "version": "3.8.12"
  },
  "orig_nbformat": 4
 },
 "nbformat": 4,
 "nbformat_minor": 2
}
