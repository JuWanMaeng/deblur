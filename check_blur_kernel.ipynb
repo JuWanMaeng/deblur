{
 "cells": [
  {
   "cell_type": "code",
   "execution_count": 3,
   "metadata": {},
   "outputs": [
    {
     "name": "stdout",
     "output_type": "stream",
     "text": [
      "The autoreload extension is already loaded. To reload it, use:\n",
      "  %reload_ext autoreload\n"
     ]
    }
   ],
   "source": [
    "%load_ext autoreload\n",
    "%autoreload 2\n",
    "\n",
    "%matplotlib inline"
   ]
  },
  {
   "cell_type": "code",
   "execution_count": 4,
   "metadata": {},
   "outputs": [],
   "source": [
    "import numpy as np\n",
    "import matplotlib.pyplot as plt\n",
    "import random,cv2,glob\n",
    "from tqdm import tqdm\n",
    "import os\n",
    "from os import path as osp"
   ]
  },
  {
   "cell_type": "code",
   "execution_count": 9,
   "metadata": {},
   "outputs": [
    {
     "name": "stdout",
     "output_type": "stream",
     "text": [
      "['000137_kernel.npy', '000062_kernel.npy', '000291_kernel.npy', '000183_kernel.npy', '000273_kernel.npy', '003050_kernel.npy', '004056_kernel.npy', '000104_kernel.npy', '000287_kernel.npy', '003053_kernel.npy', '003045_kernel.npy', '003040_kernel.npy', '000132_kernel.npy', '004003_kernel.npy', '004058_kernel.npy', '000297_kernel.npy', '000257_kernel.npy', '003105_kernel.npy', '000133_kernel.npy', '000294_kernel.npy', '000013_kernel.npy', '000093_kernel.npy', '003087_kernel.npy', '004087_kernel.npy', '000167_kernel.npy', '000262_kernel.npy', '000025_kernel.npy', '000180_kernel.npy', '003110_kernel.npy', '000029_kernel.npy', '000193_kernel.npy', '004005_kernel.npy', '000201_kernel.npy', '000051_kernel.npy', '000071_kernel.npy', '000087_kernel.npy', '003108_kernel.npy', '003031_kernel.npy', '003030_kernel.npy', '000164_kernel.npy', '000184_kernel.npy', '000012_kernel.npy', '000146_kernel.npy', '000274_kernel.npy', '000049_kernel.npy', '003054_kernel.npy', '004021_kernel.npy', '000109_kernel.npy', '000171_kernel.npy', '003049_kernel.npy', '004047_kernel.npy', '003032_kernel.npy', '004081_kernel.npy', '000179_kernel.npy', '003098_kernel.npy', '003099_kernel.npy', '000210_kernel.npy', '000234_kernel.npy', '000244_kernel.npy', '000286_kernel.npy', '000103_kernel.npy', '000292_kernel.npy', '000238_kernel.npy', '004033_kernel.npy', '000235_kernel.npy', '000027_kernel.npy', '000150_kernel.npy', '000213_kernel.npy', '004028_kernel.npy', '000293_kernel.npy', '003076_kernel.npy', '000028_kernel.npy', '004092_kernel.npy', '003081_kernel.npy', '004064_kernel.npy', '000245_kernel.npy', '000111_kernel.npy', '000198_kernel.npy', '003019_kernel.npy', '000097_kernel.npy', '000075_kernel.npy', '000276_kernel.npy', '000233_kernel.npy', '000205_kernel.npy', '000014_kernel.npy', '003084_kernel.npy', '000092_kernel.npy', '003036_kernel.npy', '000236_kernel.npy', '003048_kernel.npy', '000221_kernel.npy', '000070_kernel.npy', '003091_kernel.npy', '000003_kernel.npy', '000217_kernel.npy', '000283_kernel.npy', '000169_kernel.npy', '003075_kernel.npy', '000011_kernel.npy', '004060_kernel.npy', '003066_kernel.npy', '000145_kernel.npy', '000158_kernel.npy', '003061_kernel.npy', '000241_kernel.npy', '003022_kernel.npy', '000073_kernel.npy', '000089_kernel.npy', '000207_kernel.npy', '000182_kernel.npy', '004046_kernel.npy', '004041_kernel.npy', '000044_kernel.npy', '000162_kernel.npy', '000147_kernel.npy', '003102_kernel.npy', '000041_kernel.npy', '003017_kernel.npy', '004006_kernel.npy', '004023_kernel.npy', '003034_kernel.npy', '004082_kernel.npy', '000138_kernel.npy', '000046_kernel.npy', '004034_kernel.npy', '000143_kernel.npy', '000259_kernel.npy', '000090_kernel.npy', '000275_kernel.npy', '003044_kernel.npy', '004043_kernel.npy', '003037_kernel.npy', '000115_kernel.npy', '000157_kernel.npy', '003039_kernel.npy', '004095_kernel.npy', '004057_kernel.npy', '000242_kernel.npy', '000117_kernel.npy', '003012_kernel.npy', '003020_kernel.npy', '000099_kernel.npy', '003025_kernel.npy', '000141_kernel.npy', '000191_kernel.npy', '003092_kernel.npy', '004027_kernel.npy', '000125_kernel.npy', '000135_kernel.npy', '000214_kernel.npy', '000203_kernel.npy', '000188_kernel.npy', '000116_kernel.npy', '000240_kernel.npy', '004048_kernel.npy', '004084_kernel.npy', '003107_kernel.npy', '000016_kernel.npy', '000017_kernel.npy', '000128_kernel.npy', '000187_kernel.npy', '000289_kernel.npy', '000148_kernel.npy', '000105_kernel.npy', '000036_kernel.npy', '000081_kernel.npy', '004055_kernel.npy', '000072_kernel.npy', '000110_kernel.npy', '000084_kernel.npy', '000108_kernel.npy', '004075_kernel.npy', '000083_kernel.npy', '000022_kernel.npy', '004077_kernel.npy', '000047_kernel.npy', '000299_kernel.npy', '000165_kernel.npy', '000032_kernel.npy', '000065_kernel.npy', '004026_kernel.npy', '000170_kernel.npy', '000239_kernel.npy', '000247_kernel.npy', '004065_kernel.npy', '003035_kernel.npy', '000251_kernel.npy', '000007_kernel.npy', '000250_kernel.npy', '000202_kernel.npy', '000199_kernel.npy', '003051_kernel.npy', '000118_kernel.npy', '004044_kernel.npy', '000195_kernel.npy', '004009_kernel.npy', '003089_kernel.npy', '000300_kernel.npy', '000045_kernel.npy', '003029_kernel.npy', '004085_kernel.npy', '003057_kernel.npy', '000280_kernel.npy', '003106_kernel.npy', '000140_kernel.npy', '000067_kernel.npy', '000228_kernel.npy', '000161_kernel.npy', '004013_kernel.npy', '000131_kernel.npy', '004049_kernel.npy', '000255_kernel.npy', '000223_kernel.npy', '003094_kernel.npy', '000091_kernel.npy', '000155_kernel.npy', '004061_kernel.npy', '003052_kernel.npy', '000005_kernel.npy', '004083_kernel.npy', '000063_kernel.npy', '004011_kernel.npy', '004078_kernel.npy', '004022_kernel.npy', '004052_kernel.npy', '004059_kernel.npy', '004062_kernel.npy', '000019_kernel.npy', '000059_kernel.npy', '000096_kernel.npy', '000151_kernel.npy', '000197_kernel.npy', '003068_kernel.npy', '003058_kernel.npy', '000176_kernel.npy', '003070_kernel.npy', '000178_kernel.npy', '003047_kernel.npy', '000043_kernel.npy', '000006_kernel.npy', '000249_kernel.npy', '004067_kernel.npy', '003101_kernel.npy', '004030_kernel.npy', '004053_kernel.npy', '000040_kernel.npy', '000101_kernel.npy', '000033_kernel.npy', '000181_kernel.npy', '004029_kernel.npy', '004018_kernel.npy', '004004_kernel.npy', '000237_kernel.npy', '004020_kernel.npy', '000069_kernel.npy', '004069_kernel.npy', '000088_kernel.npy', '004066_kernel.npy', '003046_kernel.npy', '000144_kernel.npy', '000130_kernel.npy', '004099_kernel.npy', '000272_kernel.npy', '004042_kernel.npy', '000106_kernel.npy', '003085_kernel.npy', '000227_kernel.npy', '004035_kernel.npy', '003069_kernel.npy', '000154_kernel.npy', '000009_kernel.npy', '000142_kernel.npy', '003021_kernel.npy', '004012_kernel.npy', '004039_kernel.npy', '000048_kernel.npy', '003079_kernel.npy', '004038_kernel.npy', '000172_kernel.npy', '000270_kernel.npy', '004050_kernel.npy', '000021_kernel.npy', '000186_kernel.npy', '000206_kernel.npy', '000218_kernel.npy', '003024_kernel.npy', '004008_kernel.npy', '004037_kernel.npy', '000265_kernel.npy', '004032_kernel.npy', '003041_kernel.npy', '003023_kernel.npy', '000261_kernel.npy', '000112_kernel.npy', '003096_kernel.npy', '000066_kernel.npy', '000068_kernel.npy', '003104_kernel.npy', '003056_kernel.npy', '003043_kernel.npy', '000121_kernel.npy', '000082_kernel.npy', '000153_kernel.npy', '000298_kernel.npy', '000253_kernel.npy', '003063_kernel.npy', '000124_kernel.npy', '000254_kernel.npy', '000212_kernel.npy', '004100_kernel.npy', '000061_kernel.npy', '000282_kernel.npy', '000010_kernel.npy', '003013_kernel.npy', '000018_kernel.npy', '004088_kernel.npy', '000260_kernel.npy', '000039_kernel.npy', '000166_kernel.npy', '000192_kernel.npy', '000024_kernel.npy', '000095_kernel.npy', '000042_kernel.npy', '003059_kernel.npy', '004014_kernel.npy', '003071_kernel.npy', '003077_kernel.npy', '000264_kernel.npy', '000252_kernel.npy', '000209_kernel.npy', '000053_kernel.npy', '000139_kernel.npy', '000030_kernel.npy', '003080_kernel.npy', '000220_kernel.npy', '004091_kernel.npy', '000055_kernel.npy', '000050_kernel.npy', '000060_kernel.npy', '000285_kernel.npy', '000177_kernel.npy', '000149_kernel.npy', '000057_kernel.npy', '000232_kernel.npy', '000002_kernel.npy', '004090_kernel.npy', '000288_kernel.npy', '000026_kernel.npy', '000015_kernel.npy', '000163_kernel.npy', '000208_kernel.npy', '000058_kernel.npy', '004001_kernel.npy', '004036_kernel.npy', '000056_kernel.npy', '004007_kernel.npy', '004040_kernel.npy', '000231_kernel.npy', '000076_kernel.npy', '000123_kernel.npy', '000258_kernel.npy', '000052_kernel.npy', '004076_kernel.npy', '000194_kernel.npy', '000136_kernel.npy', '003083_kernel.npy', '000098_kernel.npy', '000173_kernel.npy', '000295_kernel.npy', '000120_kernel.npy', '003093_kernel.npy', '000277_kernel.npy', '003062_kernel.npy', '000107_kernel.npy', '003074_kernel.npy', '000077_kernel.npy', '000008_kernel.npy', '004070_kernel.npy', '000074_kernel.npy', '003109_kernel.npy', '000229_kernel.npy', '000078_kernel.npy', '004094_kernel.npy', '003015_kernel.npy', '003088_kernel.npy', '003067_kernel.npy', '003038_kernel.npy', '000037_kernel.npy', '004045_kernel.npy', '000085_kernel.npy', '003103_kernel.npy', '004068_kernel.npy', '003028_kernel.npy', '004098_kernel.npy', '000035_kernel.npy', '004079_kernel.npy', '000119_kernel.npy', '004072_kernel.npy', '004093_kernel.npy', '003018_kernel.npy', '004025_kernel.npy', '000189_kernel.npy', '000094_kernel.npy', '000122_kernel.npy', '000248_kernel.npy', '003097_kernel.npy', '003073_kernel.npy', '000113_kernel.npy', '004031_kernel.npy', '000080_kernel.npy', '000279_kernel.npy', '000224_kernel.npy', '000168_kernel.npy', '000001_kernel.npy', '000281_kernel.npy', '004017_kernel.npy', '000226_kernel.npy', '000086_kernel.npy', '004097_kernel.npy', '003078_kernel.npy', '004071_kernel.npy', '004002_kernel.npy', '000256_kernel.npy', '003026_kernel.npy', '000204_kernel.npy', '000175_kernel.npy', '004019_kernel.npy', '000196_kernel.npy', '000156_kernel.npy', '000200_kernel.npy', '003033_kernel.npy', '000031_kernel.npy', '004024_kernel.npy', '004074_kernel.npy', '000246_kernel.npy', '000174_kernel.npy', '000216_kernel.npy', '004010_kernel.npy', '003042_kernel.npy', '003065_kernel.npy', '000290_kernel.npy', '004015_kernel.npy', '000230_kernel.npy', '000266_kernel.npy', '000079_kernel.npy', '000222_kernel.npy', '000134_kernel.npy', '000160_kernel.npy', '003095_kernel.npy', '000159_kernel.npy', '004063_kernel.npy', '000278_kernel.npy', '003064_kernel.npy', '004073_kernel.npy', '003072_kernel.npy', '004016_kernel.npy', '003016_kernel.npy', '004096_kernel.npy', '003060_kernel.npy', '004086_kernel.npy', '000102_kernel.npy', '003082_kernel.npy', '000263_kernel.npy', '000269_kernel.npy', '000284_kernel.npy', '000211_kernel.npy', '000100_kernel.npy', '000064_kernel.npy', '003100_kernel.npy', '000129_kernel.npy', '003090_kernel.npy', '000054_kernel.npy', '003011_kernel.npy', '000296_kernel.npy', '004089_kernel.npy', '003055_kernel.npy', '000190_kernel.npy', '000127_kernel.npy', '000004_kernel.npy', '000219_kernel.npy', '000268_kernel.npy', '000023_kernel.npy', '000225_kernel.npy', '000126_kernel.npy', '004051_kernel.npy', '000215_kernel.npy', '000034_kernel.npy', '000185_kernel.npy', '003014_kernel.npy', '000114_kernel.npy', '003027_kernel.npy', '000020_kernel.npy', '000152_kernel.npy', '004054_kernel.npy', '000271_kernel.npy', '000267_kernel.npy', '000243_kernel.npy', '000038_kernel.npy', '003086_kernel.npy', '004080_kernel.npy']\n"
     ]
    }
   ],
   "source": [
    "numpys=os.listdir('/raid/joowan/UFP_numpy')\n",
    "print(numpys)"
   ]
  },
  {
   "cell_type": "code",
   "execution_count": 13,
   "metadata": {},
   "outputs": [
    {
     "name": "stderr",
     "output_type": "stream",
     "text": [
      " 92%|█████████▏| 83/90 [2:00:44<10:11, 87.29s/it]  \n"
     ]
    },
    {
     "ename": "KeyboardInterrupt",
     "evalue": "",
     "output_type": "error",
     "traceback": [
      "\u001b[0;31m---------------------------------------------------------------------------\u001b[0m",
      "\u001b[0;31mKeyboardInterrupt\u001b[0m                         Traceback (most recent call last)",
      "\u001b[0;32m/tmp/ipykernel_38468/807664944.py\u001b[0m in \u001b[0;36m<module>\u001b[0;34m\u001b[0m\n\u001b[1;32m     26\u001b[0m \u001b[0;34m\u001b[0m\u001b[0m\n\u001b[1;32m     27\u001b[0m \u001b[0;34m\u001b[0m\u001b[0m\n\u001b[0;32m---> 28\u001b[0;31m             \u001b[0mcv2\u001b[0m\u001b[0;34m.\u001b[0m\u001b[0mimwrite\u001b[0m\u001b[0;34m(\u001b[0m\u001b[0;34mf'{save_folder}/{i}_{j}.png'\u001b[0m\u001b[0;34m,\u001b[0m\u001b[0ma_blur_kernel\u001b[0m\u001b[0;34m)\u001b[0m\u001b[0;34m\u001b[0m\u001b[0;34m\u001b[0m\u001b[0m\n\u001b[0m\u001b[1;32m     29\u001b[0m \u001b[0;34m\u001b[0m\u001b[0m\n\u001b[1;32m     30\u001b[0m \u001b[0;34m\u001b[0m\u001b[0m\n",
      "\u001b[0;31mKeyboardInterrupt\u001b[0m: "
     ]
    }
   ],
   "source": [
    "for kernel in tqdm(numpys):\n",
    "\n",
    "    path='/raid/joowan/UFP_numpy/' + kernel\n",
    "    blur_kernels=np.load(path)\n",
    "    img_num=kernel.split('_')[0]\n",
    "    # print(blur_kernels.shape)\n",
    "    blur_kernel=blur_kernels[0]\n",
    "\n",
    "    dir_name='raid/joowan/blur_kernel_results'\n",
    "    \n",
    "\n",
    "    save_folder=osp.join(dir_name,img_num)\n",
    "    if not os.path.exists(save_folder):\n",
    "        # Create the directory\n",
    "        os.mkdir(save_folder)\n",
    "\n",
    "\n",
    "    \n",
    "    for i in range(0,720):\n",
    "        for j in range(0,1280):\n",
    "            a_blur_kernel=blur_kernel[:,i,j]\n",
    "            a_blur_kernel= a_blur_kernel*255.0\n",
    "            a_blur_kernel=a_blur_kernel.astype(np.uint8)\n",
    "            a_blur_kernel=a_blur_kernel.reshape(19,19)\n",
    "    \n",
    "\n",
    "\n",
    "            cv2.imwrite(f'{save_folder}/{i}_{j}.png',a_blur_kernel)\n",
    "        \n",
    "            \n",
    " \n"
   ]
  },
  {
   "cell_type": "code",
   "execution_count": 3,
   "metadata": {},
   "outputs": [
    {
     "name": "stdout",
     "output_type": "stream",
     "text": [
      "(19, 19, 3)\n"
     ]
    }
   ],
   "source": [
    "kernel=cv2.imread('/workspace/hdd/blur_kernel_results/003098/180_420.png')\n",
    "\n",
    "print(kernel.shape)"
   ]
  },
  {
   "cell_type": "code",
   "execution_count": 4,
   "metadata": {},
   "outputs": [
    {
     "name": "stdout",
     "output_type": "stream",
     "text": [
      "(19, 19)\n"
     ]
    }
   ],
   "source": [
    "kernel=cv2.imread('workspace/hdd/blur_kernel_results/003098/180_420.png',cv2.IMREAD_GRAYSCALE)\n",
    "\n",
    "print(kernel.shape)"
   ]
  },
  {
   "cell_type": "code",
   "execution_count": 5,
   "metadata": {},
   "outputs": [
    {
     "name": "stderr",
     "output_type": "stream",
     "text": [
      "[ WARN:0@38.206] global /io/opencv/modules/imgcodecs/src/loadsave.cpp (239) findDecoder imread_('workspace/hdd/motionblur_kernels/test.png'): can't open/read file: check file path/integrity\n"
     ]
    },
    {
     "ename": "AttributeError",
     "evalue": "'NoneType' object has no attribute 'shape'",
     "output_type": "error",
     "traceback": [
      "\u001b[0;31m---------------------------------------------------------------------------\u001b[0m",
      "\u001b[0;31mAttributeError\u001b[0m                            Traceback (most recent call last)",
      "\u001b[0;32m/tmp/ipykernel_32010/3322741533.py\u001b[0m in \u001b[0;36m<module>\u001b[0;34m\u001b[0m\n\u001b[1;32m      1\u001b[0m \u001b[0mmotion_kernel\u001b[0m\u001b[0;34m=\u001b[0m\u001b[0mcv2\u001b[0m\u001b[0;34m.\u001b[0m\u001b[0mimread\u001b[0m\u001b[0;34m(\u001b[0m\u001b[0;34m'workspace/hdd/motionblur_kernels/test.png'\u001b[0m\u001b[0;34m,\u001b[0m\u001b[0mcv2\u001b[0m\u001b[0;34m.\u001b[0m\u001b[0mIMREAD_GRAYSCALE\u001b[0m\u001b[0;34m)\u001b[0m\u001b[0;34m\u001b[0m\u001b[0;34m\u001b[0m\u001b[0m\n\u001b[0;32m----> 2\u001b[0;31m \u001b[0mprint\u001b[0m\u001b[0;34m(\u001b[0m\u001b[0mmotion_kernel\u001b[0m\u001b[0;34m.\u001b[0m\u001b[0mshape\u001b[0m\u001b[0;34m)\u001b[0m\u001b[0;34m\u001b[0m\u001b[0;34m\u001b[0m\u001b[0m\n\u001b[0m\u001b[1;32m      3\u001b[0m \u001b[0;31m# motion_kernel=motion_kernel[:,:,2]\u001b[0m\u001b[0;34m\u001b[0m\u001b[0;34m\u001b[0m\u001b[0;34m\u001b[0m\u001b[0m\n\u001b[1;32m      4\u001b[0m \u001b[0;31m# print(motion_kernel.shape)\u001b[0m\u001b[0;34m\u001b[0m\u001b[0;34m\u001b[0m\u001b[0;34m\u001b[0m\u001b[0m\n\u001b[1;32m      5\u001b[0m \u001b[0mplt\u001b[0m\u001b[0;34m.\u001b[0m\u001b[0mimshow\u001b[0m\u001b[0;34m(\u001b[0m\u001b[0mmotion_kernel\u001b[0m\u001b[0;34m,\u001b[0m\u001b[0mcmap\u001b[0m\u001b[0;34m=\u001b[0m\u001b[0;34m'gray'\u001b[0m\u001b[0;34m)\u001b[0m\u001b[0;34m\u001b[0m\u001b[0;34m\u001b[0m\u001b[0m\n",
      "\u001b[0;31mAttributeError\u001b[0m: 'NoneType' object has no attribute 'shape'"
     ]
    }
   ],
   "source": [
    "motion_kernel=cv2.imread('workspace/hdd/motionblur_kernels/test.png',cv2.IMREAD_GRAYSCALE)\n",
    "print(motion_kernel.shape)\n",
    "# motion_kernel=motion_kernel[:,:,2]\n",
    "# print(motion_kernel.shape)\n",
    "plt.imshow(motion_kernel,cmap='gray')\n",
    "plt.show()"
   ]
  },
  {
   "cell_type": "code",
   "execution_count": 3,
   "metadata": {},
   "outputs": [
    {
     "data": {
      "image/png": "[encoded data removed]",
      "text/plain": [
       "<Figure size 432x288 with 1 Axes>"
      ]
     },
     "metadata": {
      "needs_background": "light"
     },
     "output_type": "display_data"
    }
   ],
   "source": [
    "gen_kernel=cv2.imread('workspace/hdd/blur_kernel_results/003098/70_820.png',cv2.IMREAD_GRAYSCALE)\n",
    "# gen_kernel=gen_kernel[:,:,0]\n",
    "# print(gen_kernel.shape)\n",
    "plt.imshow(gen_kernel,cmap='gray')\n",
    "plt.show()"
   ]
  },
  {
   "cell_type": "code",
   "execution_count": 4,
   "metadata": {},
   "outputs": [
    {
     "name": "stdout",
     "output_type": "stream",
     "text": [
      "[[ 0  0  0  0  0  0  0  0  0  0  0  0  0  0  0  0  0  0  0]\n",
      " [ 0  0  0  0  0  0  0  0  0  0  0  0  0  0  0  0  0  0  0]\n",
      " [ 0  0  0  0  0  0  0  0  0  0  0  0  0  0  0  0  0  0  0]\n",
      " [ 0  0  0  0  0  0  0  0  0  1  0  0  0  0  0  0  0  0  0]\n",
      " [ 0  0  0  0  0  0  0  0  0  0  0  0  0  0  0  0  0  0  0]\n",
      " [ 0  0  0  0  0  0  0  0  0  0  0  0  2  0  0  1  0  0  0]\n",
      " [ 1  0  0  0  0  0  0  1  0  1  0  1  0  0  0  0  0  0  0]\n",
      " [ 0  0  0  1  0  3  2 13  0  3 10  4  1  0  1  0  1  0  1]\n",
      " [ 0  0  0  0  0  1  1  2  0  0  0  1  0  2  0  0  0  0  0]\n",
      " [ 1  0  0  0  1  0  1  6  4 28  0  0  1  7  0  5  0  0  0]\n",
      " [ 2  0  0  1  0  2  0  1  2  0  0  0  2  0  0  0  0  0  2]\n",
      " [ 0  0  0  1  0  0  1  3  0  3  2  1  0  8  0  1  1  1  2]\n",
      " [ 2  0  0  0  0  5  0  0  0  0  0  0  0  0  0  0  0  0  0]\n",
      " [ 0  0  0  0  0  0  0  3  2  3  1  1  0  0  1  4  0  0  0]\n",
      " [ 0  0  0  0  0  1  0  0  2  0  0  1  0  1  0  0  0  0  0]\n",
      " [ 0  0  0  0  0  0  0  0  1  1  0  3  1  0  0  0  0  0  0]\n",
      " [ 0  0  0  0  0  0  0  1  0  0  0  0  0  0  0  0  0  0  0]\n",
      " [ 0  0  0  0  0  0  0  0  0  0  0  0  0  0  0  0  0  0  0]\n",
      " [ 1  0  0  0  0  0  0  1  0  1  1  0  0  1  0  0  0  0  2]]\n"
     ]
    }
   ],
   "source": [
    "print(gen_kernel)"
   ]
  },
  {
   "cell_type": "code",
   "execution_count": 11,
   "metadata": {},
   "outputs": [
    {
     "name": "stdout",
     "output_type": "stream",
     "text": [
      "[[  0   0   0   0   0   0   0   0   0   0   0   0   0   0   0   0   0   0\n",
      "    0]\n",
      " [  0   0   0   0   0   0   0   0   0   0   0   0   0   0   0   0   0   0\n",
      "    0]\n",
      " [  0   0   0   0   0   0   0   0   0   0   0   0   0   0   0   0   0   0\n",
      "    0]\n",
      " [  0   0   0   0   0   0   0   0   0   0   0   0   0   0   0   0   0   0\n",
      "    0]\n",
      " [  0   0   0   0   0   0   0   0   0   0   0   1   2   0   0   0   0   0\n",
      "    0]\n",
      " [  0   0   0   0   0   0   0   0   0   0   2   0   0   0   0   0   0   0\n",
      "    0]\n",
      " [  0   0   0   0   0   0   0   0   0   1   0  43  53   0   2   0   0   0\n",
      "    0]\n",
      " [  0   0   0   0   0   0   0   0   5   0  66 127  23   1   1   0   0   0\n",
      "    0]\n",
      " [  0   0   0   0   0   0   0   1   0  21 121   4   0   1   0   0   0   0\n",
      "    0]\n",
      " [  0   0   0   0   0   0   3   3  72 122  20   2   2   0   0   0   0   0\n",
      "    0]\n",
      " [  0   0   0   0   0   1   0  37 127  11   0   1   0   0   0   0   0   0\n",
      "    0]\n",
      " [  0   0   0   0   1   2  18 112  18   0   2   0   0   0   0   0   0   0\n",
      "    0]\n",
      " [  0   0   0   0   1   0  36 109   0   5   0   0   0   0   0   0   0   0\n",
      "    0]\n",
      " [  0   0   0   0   0   0   1   6   1   0   0   0   0   0   0   0   0   0\n",
      "    0]\n",
      " [  0   0   0   0   0   0   0   0   0   0   0   0   0   0   0   0   0   0\n",
      "    0]\n",
      " [  0   0   0   0   0   0   0   0   0   0   0   0   0   0   0   0   0   0\n",
      "    0]\n",
      " [  0   0   0   0   0   0   0   0   0   0   0   0   0   0   0   0   0   0\n",
      "    0]\n",
      " [  0   0   0   0   0   0   0   0   0   0   0   0   0   0   0   0   0   0\n",
      "    0]\n",
      " [  0   0   0   0   0   0   0   0   0   0   0   0   0   0   0   0   0   0\n",
      "    0]]\n"
     ]
    }
   ],
   "source": [
    "print(motion_kernel)"
   ]
  },
  {
   "cell_type": "code",
   "execution_count": 12,
   "metadata": {},
   "outputs": [
    {
     "name": "stdout",
     "output_type": "stream",
     "text": [
      "[[ 0  0  0  0  0  0  0  0  0  0  0  0  0  0  0  0  0  0  0]\n",
      " [ 0  0  0  0  0  0  0  0  0  0  0  0  0  0  0  0  0  0  0]\n",
      " [ 0  0  0  0  0  0  0  0  0  0  0  0  0  0  0  0  0  0  0]\n",
      " [ 0  0  0  0  0  0  0  0  0  3  0  2  0  1  0  1  0  0  0]\n",
      " [ 0  0  0  0  0  0  0  2  0  0  0  0  0  1  0  0  0  0  0]\n",
      " [ 0  0  0  0  0  1  0  1  0  1  2  1  5  2  0  1  0  0  0]\n",
      " [ 0  0  0  0  0  0  0  1  0  2  0  2  1  0  0  0  0  0  0]\n",
      " [ 0  0  0  0  1  4  2 11  0  2  6  5  1  0  2  0  1  0  1]\n",
      " [ 0  0  0  0  0  2  1  4  0  0  0  1  0  1  0  0  0  0  0]\n",
      " [ 0  0  0  0  1  0  2  7  3 22  0  0  1  6  0  7  0  0  0]\n",
      " [ 3  0  0  1  0  5  0  1  1  0  0  0  2  0  0  0  0  0  2]\n",
      " [ 0  0  0  1  0  0  1  4  0  4  2  1  0  9  0  1  0  0  0]\n",
      " [ 1  0  0  0  1  6  0  0  0  0  0  0  0  0  0  0  0  0  0]\n",
      " [ 0  0  0  0  0  0  0  2  1  3  0  0  0  0  1  2  0  0  0]\n",
      " [ 0  0  0  0  0  1  0  0  1  0  0  0  0  0  0  0  0  0  0]\n",
      " [ 0  0  0  0  0  0  0  0  0  0  0  1  0  0  0  0  0  0  0]\n",
      " [ 0  0  0  0  0  0  0  0  0  0  0  0  0  0  0  0  0  0  0]\n",
      " [ 0  0  0  0  0  0  0  0  0  0  0  0  0  0  0  0  0  0  0]\n",
      " [ 1  0  0  0  0  0  0  0  0  0  0  0  0  0  0  0  0  0  1]]\n"
     ]
    }
   ],
   "source": [
    "print(gen_kernel)"
   ]
  },
  {
   "cell_type": "code",
   "execution_count": 2,
   "metadata": {},
   "outputs": [
    {
     "name": "stdout",
     "output_type": "stream",
     "text": [
      "False\n"
     ]
    }
   ],
   "source": [
    "import torch\n",
    "print(torch.cuda.is_available())"
   ]
  },
  {
   "cell_type": "code",
   "execution_count": null,
   "metadata": {},
   "outputs": [],
   "source": []
  },
  {
   "cell_type": "code",
   "execution_count": null,
   "metadata": {},
   "outputs": [],
   "source": [
    "sㄴssSSSS"
   ]
  }
 ],
 "metadata": {
  "kernelspec": {
   "display_name": "base",
   "language": "python",
   "name": "python3"
  },
  "language_info": {
   "codemirror_mode": {
    "name": "ipython",
    "version": 3
   },
   "file_extension": ".py",
   "mimetype": "text/x-python",
   "name": "python",
   "nbconvert_exporter": "python",
   "pygments_lexer": "ipython3",
   "version": "3.8.17"
  },
  "orig_nbformat": 4
 },
 "nbformat": 4,
 "nbformat_minor": 2
}
